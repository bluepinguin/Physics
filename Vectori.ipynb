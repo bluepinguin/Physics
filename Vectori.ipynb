{
 "cells": [
  {
   "cell_type": "markdown",
   "metadata": {},
   "source": [
    "<a href=\"http://www.quarq.ro/lectii.html\">Lectii www.quarq.ro</a>"
   ]
  },
  {
   "cell_type": "markdown",
   "metadata": {
    "collapsed": true
   },
   "source": [
    "# Vectori. Operații cu vectori. "
   ]
  },
  {
   "cell_type": "markdown",
   "metadata": {},
   "source": [
    "![Alt Text](v1.PNG)"
   ]
  },
  {
   "cell_type": "markdown",
   "metadata": {},
   "source": [
    "------------------"
   ]
  },
  {
   "cell_type": "markdown",
   "metadata": {},
   "source": [
    "# Cuprins"
   ]
  },
  {
   "cell_type": "markdown",
   "metadata": {},
   "source": [
    "1. Ce sunt vectorii?\n",
    "2. Adunarea vectorilor. Cazul a doi vectori.\n",
    "3. Scăderea vectorilor.\n",
    "4. Componentele unui vector pe un sistem de  axe de coordonate.\n",
    "5. Metoda analitică de compunere a vectorilor.\n",
    "6. Reprezentarea vectorilor folosind versori.\n",
    "7. Produsul scalar a doi vectori.\n",
    "8. Produsul vectorial a doi vectori."
   ]
  },
  {
   "cell_type": "markdown",
   "metadata": {},
   "source": [
    "-------------------"
   ]
  },
  {
   "cell_type": "markdown",
   "metadata": {},
   "source": [
    "## 1. Ce sunt vectorii?"
   ]
  },
  {
   "cell_type": "markdown",
   "metadata": {},
   "source": [
    "În fizică mărimi precum masa, timpul, temperatura pot fi descrise complet doar prin precizarea valorii numerice şi a \n",
    "unitătii de măsură corespunzătoare. Alte mărimi fizice, cum ar  fi viteza, forţa, acceleraţia, nu sunt complet definite \n",
    "dacă se precizează doar valoarea numerică şi unitatea de măsura. În aceste situaţii   trebuie  cunoscută obligatoriu  şi orientarea în spaţiu. Aceste mărimi sunt mărimi fizice vectoriale."
   ]
  },
  {
   "cell_type": "markdown",
   "metadata": {},
   "source": [
    "Mărimile fizice vectoriale sunt reprezentate grafic prin vectori. Un vector  este un segment de dreaptă orientat \n",
    "caracterizat prin următoarele elemente:\n",
    "<ul>\n",
    "<li>punct de aplicație</li>\n",
    "<li>modul (mărime)</li>\n",
    "<li>direcție (este dreapta suport a vectorului)</li>\n",
    "<li>sens (săgeata)</li>\n",
    "\n",
    "</ul>"
   ]
  },
  {
   "cell_type": "markdown",
   "metadata": {},
   "source": [
    "În desenul de mai jos este desenat vectorul care reprezintă forța de tracțiune aplicată unei sănii."
   ]
  },
  {
   "cell_type": "markdown",
   "metadata": {
    "collapsed": true
   },
   "source": [
    "![Alt Text](s.PNG)"
   ]
  },
  {
   "cell_type": "markdown",
   "metadata": {},
   "source": [
    "Vectorii se notează utilizând litere mici sau mari în corelație cu denumirea mărimii fizice pe care o reprezintă.\n",
    "De exemplu forta se reprezită cu $\\vec{\\mathbf{F}}$, viteza cu $\\vec{\\mathbf{v}}$, semnul de deasupra literei este obligatoriu. Atunci când ne referim la modulul sou mărimea vectorului atunci se notează fără semnul de vector de deasupra și anume $F=100N $ sau $v =5m/s$"
   ]
  },
  {
   "cell_type": "markdown",
   "metadata": {},
   "source": [
    "-----------------------"
   ]
  },
  {
   "cell_type": "markdown",
   "metadata": {},
   "source": [
    "## 2. Adunarea vectorilor. Cazul a doi vectori."
   ]
  },
  {
   "cell_type": "markdown",
   "metadata": {},
   "source": [
    "Considerăm cazul a doi vectori,   $\\vec{\\mathbf{a}}$, respectiv $\\vec{\\mathbf{b}}$,  orientaţi astfel încât formează un unghi $ \\alpha $ unul cu celălalt."
   ]
  },
  {
   "cell_type": "markdown",
   "metadata": {},
   "source": [
    "![Alt Text](a.PNG)"
   ]
  },
  {
   "cell_type": "markdown",
   "metadata": {},
   "source": [
    "Pentru a calcula suma vectorilor,  respectiv $\\vec{\\mathbf{a}}+\\vec{\\mathbf{b}}=\\vec{\\mathbf{c}} $, se procedează astfel:\n",
    "<ul>\n",
    "<li>Se translatează vectorii astfel încât să aibe aceeaşi origine.</li>\n",
    "<li>Se duc drepte paralele la vectorii a ⃗ şi b ⃗ obţinându-se un paralelogram.</li>\n",
    "<li>Se desenează diagonala care uneşte originea celor doi vectori cu colţul opus, vectorul care are originea în originea comună a celor doi vectori şi vârful în colţul paralelorgramului reprezintă vectorul sumă $\\vec{\\mathbf{c}}$ a celor doi vectori. </li>\n",
    "</ul>"
   ]
  },
  {
   "cell_type": "markdown",
   "metadata": {},
   "source": [
    "În modul vectorul sumă  se calculează utilizând teorema lui Pitagora generalizată sau teorema cosinusului."
   ]
  },
  {
   "cell_type": "markdown",
   "metadata": {},
   "source": [
    "$c^2=a^2+b^2+2ab cos\\alpha $"
   ]
  },
  {
   "cell_type": "markdown",
   "metadata": {},
   "source": [
    "Metoda prezentată mai sus se numeşte regula paralelogramului. În desenele de mai jos sunt prezentate câteva cazuri particulare de adunare a vectorilor.\n",
    "\n"
   ]
  },
  {
   "cell_type": "markdown",
   "metadata": {},
   "source": [
    "![Alt Text](a1.PNG)"
   ]
  },
  {
   "cell_type": "markdown",
   "metadata": {},
   "source": [
    "-----------------------"
   ]
  },
  {
   "cell_type": "markdown",
   "metadata": {},
   "source": [
    "## 3. Scăderea vectorilor"
   ]
  },
  {
   "cell_type": "markdown",
   "metadata": {},
   "source": [
    "Scăderea vectorilor  se reduce de fapt la adunarea lor. Să presupunem că avem de calculat următoarea diferenţă:"
   ]
  },
  {
   "cell_type": "markdown",
   "metadata": {},
   "source": [
    "$ \\vec{\\mathbf{d}}=\\vec{\\mathbf{a}}-\\vec{\\mathbf{b}}=\\vec{\\mathbf{a}}+(-\\vec{\\mathbf{b}}) $"
   ]
  },
  {
   "cell_type": "markdown",
   "metadata": {},
   "source": [
    "Se desenează vectorul $-\\vec{\\mathbf{b}}$ apoi se desenează suma vectorilor $\\vec{\\mathbf{a}}$ şi $-\\vec{\\mathbf{b}}$ conform regulii stabilite la adunarea vectorilor. În modul vectorul diferenţă se calculează conform relaţiei de mai jos."
   ]
  },
  {
   "cell_type": "markdown",
   "metadata": {},
   "source": [
    "$c^2=a^2+b^2-2ab cos\\alpha $"
   ]
  },
  {
   "cell_type": "markdown",
   "metadata": {},
   "source": [
    "![Alt Text](d.PNG)"
   ]
  },
  {
   "cell_type": "markdown",
   "metadata": {},
   "source": [
    "----------------------------"
   ]
  },
  {
   "cell_type": "markdown",
   "metadata": {},
   "source": [
    "## 4. Componentele unui vector pe un sistem de axe de coordonate"
   ]
  },
  {
   "cell_type": "markdown",
   "metadata": {},
   "source": [
    "Considerăm un sistem de axe de coordonate rectangular $Oxy$ şi un vector $\\vec{\\mathbf{a}}$ orientat arbitrar în raport cu acest sistem. Desenăm proiecţiile vârfului  vectorului  $\\vec{\\mathbf{a}}$  pe cele două axe $Ox$ şi $Oy$.  Vectorii $\\vec{\\mathbf{a_x}}$  şi $\\vec{\\mathbf{a_y}}$ care satifac condiţia,\n"
   ]
  },
  {
   "cell_type": "markdown",
   "metadata": {},
   "source": [
    "$\\vec{\\mathbf{a}}=\\vec{\\mathbf{a_x}}+\\vec{\\mathbf{a_y}}$"
   ]
  },
  {
   "cell_type": "markdown",
   "metadata": {},
   "source": [
    "se  numesc componentele vectorului $\\vec{\\mathbf{a}}$."
   ]
  },
  {
   "cell_type": "markdown",
   "metadata": {},
   "source": [
    "![Alt Text](c.PNG)"
   ]
  },
  {
   "cell_type": "markdown",
   "metadata": {},
   "source": [
    "Se vede că modulul  componentelor este:"
   ]
  },
  {
   "cell_type": "markdown",
   "metadata": {},
   "source": [
    "$ a_x =a cos(\\alpha) \\quad  a_y =a sin(\\alpha) $"
   ]
  },
  {
   "cell_type": "markdown",
   "metadata": {},
   "source": [
    "În cazul în care axele de coordonate nu sunt perpendiculare atunci componentele sunt obţinute aşa cum vedeți mai jos."
   ]
  },
  {
   "cell_type": "markdown",
   "metadata": {},
   "source": [
    "![Alt Text](c1.PNG)"
   ]
  },
  {
   "cell_type": "markdown",
   "metadata": {},
   "source": [
    "<font color=red> ATENȚIE!</font> A nu se confunda proiecţia unui vector pe o axă de coordonate şi componenta vectorului pe axa de coordonate. Pentru situaţia unui sistem de axe de coordonate ortogonal (axe perpendiculare) cele două noţiuni coincid însă pentru cazul în care sistemul de axe de coordonate nu este ortogonal noţiunile de proiecţie şi componentă sunt diferite aşa cum se poate vedea în figura de mai jos."
   ]
  },
  {
   "cell_type": "markdown",
   "metadata": {},
   "source": [
    "![Alt Text](cp.PNG)"
   ]
  },
  {
   "cell_type": "markdown",
   "metadata": {},
   "source": [
    "------------------------"
   ]
  },
  {
   "cell_type": "markdown",
   "metadata": {},
   "source": [
    "## 5. Metoda analitică  de compunere a vectorilor "
   ]
  },
  {
   "cell_type": "markdown",
   "metadata": {},
   "source": [
    "În foarte multe situaţii avem de adunat mai mult de doi vectori care în plus pot fi orientaţi arbitrar. \n",
    "În acest caz metoda paralelogramului este posibil de aplicat dar calculul este destul de laborios. O metodă mai \n",
    "practică este cea pe care o prezentăm mai jos, aşa numita **metodă analitică de compunere a vectorilor**. "
   ]
  },
  {
   "cell_type": "markdown",
   "metadata": {},
   "source": [
    "Ilustrăm această metodă pe un exemplu practic. Să presupunem că avem un avion care zboară pornind din Bucureşti \n",
    "între mai multe localităţi, vectorii deplasare fiind figuraţi mai jos. "
   ]
  },
  {
   "cell_type": "markdown",
   "metadata": {},
   "source": [
    "![Alt Text](ma.PNG)"
   ]
  },
  {
   "cell_type": "markdown",
   "metadata": {},
   "source": [
    "Punctul terminus este Piteşti. Vectorii \n",
    "deplasare $\\vec{\\mathbf{d_1}}$, $\\vec{\\mathbf{d_2}}$, $\\vec{\\mathbf{d_3}}$  au  modulele respectiv  $d_1 = 92 km$, $d_2 = 108 km$, $d_3 = 46 km$. Dorim să aflăm deplasarea rezultantă,"
   ]
  },
  {
   "cell_type": "markdown",
   "metadata": {},
   "source": [
    "$\\vec{\\mathbf{d}}=\\vec{\\mathbf{d_1}}+\\vec{\\mathbf{d_2}}+\\vec{\\mathbf{d_3}}$"
   ]
  },
  {
   "cell_type": "markdown",
   "metadata": {},
   "source": [
    "Reprezentăm vectorii pe un sistem de axe de coordonate şi desenăm componentele acestora pe cele două axe,  $Ox$,  respectiv $Oy $."
   ]
  },
  {
   "cell_type": "markdown",
   "metadata": {},
   "source": [
    "![Alt Text](ma1.PNG)"
   ]
  },
  {
   "cell_type": "markdown",
   "metadata": {},
   "source": [
    "Se calculează modulul componentelor, "
   ]
  },
  {
   "cell_type": "markdown",
   "metadata": {},
   "source": [
    "$d_{1x}=d_1 cos⁡50=92\\cdot0,642 km=59 km$"
   ]
  },
  {
   "cell_type": "markdown",
   "metadata": {},
   "source": [
    "$d_{1y}=d_1  sin⁡50=92\\cdot0,766 km=70,4 km$"
   ]
  },
  {
   "cell_type": "markdown",
   "metadata": {},
   "source": [
    "$d_{2x}=d_2  cos15=108\\cdot0,965 km=104,2 km$"
   ]
  },
  {
   "cell_type": "markdown",
   "metadata": {},
   "source": [
    "$d_{2y}=d_2  sin⁡15=108\\cdot0,258 km=27,8 km$"
   ]
  },
  {
   "cell_type": "markdown",
   "metadata": {},
   "source": [
    "$d_{3y}=d_2  cos⁡38=46\\cdot0,788 km=36,2 km$"
   ]
  },
  {
   "cell_type": "markdown",
   "metadata": {},
   "source": [
    "$d_{3x}=d_2  sin⁡38=46\\cdot0,615 km=28,2 km$"
   ]
  },
  {
   "cell_type": "markdown",
   "metadata": {},
   "source": [
    "Am obţinut astfel vectori orientaţi numai în direcţia axelor $Ox$ şi $Oy$. Se calculează rezultanta acestora pe $Ox$\n",
    "respectiv $Oy$."
   ]
  },
  {
   "cell_type": "markdown",
   "metadata": {},
   "source": [
    "$\\vec{\\mathbf{d_x}}=\\vec{\\mathbf{d_1x}}+\\vec{\\mathbf{d_2x}}+\\vec{\\mathbf{d_3x}}$"
   ]
  },
  {
   "cell_type": "markdown",
   "metadata": {},
   "source": [
    "$\\vec{\\mathbf{d_y}}=\\vec{\\mathbf{d_1y}}+\\vec{\\mathbf{d_2y}}+\\vec{\\mathbf{d_3y}}$"
   ]
  },
  {
   "cell_type": "markdown",
   "metadata": {},
   "source": [
    "În modul:"
   ]
  },
  {
   "cell_type": "markdown",
   "metadata": {},
   "source": [
    "$d_x=d_1x-d_2x-d_3x=-73,4 km  $  "
   ]
  },
  {
   "cell_type": "markdown",
   "metadata": {},
   "source": [
    "$d_y=d_1y+d_2y-d_3y=62 km$"
   ]
  },
  {
   "cell_type": "markdown",
   "metadata": {},
   "source": [
    "Grafic vectorii $\\vec{\\mathbf{d_x}}$ și $\\vec{\\mathbf{d_y}}$ se reprezintă astfel,"
   ]
  },
  {
   "cell_type": "markdown",
   "metadata": {},
   "source": [
    "![Alt Text](ma2.PNG)"
   ]
  },
  {
   "cell_type": "markdown",
   "metadata": {},
   "source": [
    "În final vectorul deplasare rezultant are modulul,"
   ]
  },
  {
   "cell_type": "markdown",
   "metadata": {},
   "source": [
    "$d=\\sqrt{d_x^2+d_y^2 }=96 km   $ "
   ]
  },
  {
   "cell_type": "markdown",
   "metadata": {},
   "source": [
    "Orientarea faţă de axa Ox  este dată de unghiul $β$."
   ]
  },
  {
   "cell_type": "markdown",
   "metadata": {},
   "source": [
    "$tan(⁡β)=d_y/d_x =62/73,4=0,844  $"
   ]
  },
  {
   "cell_type": "markdown",
   "metadata": {},
   "source": [
    "$β=  tan^{-1}⁡(0,844)=40,18 grade$"
   ]
  },
  {
   "cell_type": "markdown",
   "metadata": {},
   "source": [
    "----------------------------"
   ]
  },
  {
   "cell_type": "markdown",
   "metadata": {},
   "source": [
    "## 6. Reprezentarea vectorilor folosind versorii axelor de coordonate "
   ]
  },
  {
   "cell_type": "markdown",
   "metadata": {},
   "source": [
    "Versorii axelor de coordonate sunt vectori unitari (au modulul egal cu unitatea) orientaţi în sensul pozitiv al axelor de coordonate. Versorii axelor $Ox$ si $Oy$ sunt notați respectiv $\\vec{\\mathbf{i}}$ și $\\vec{\\mathbf{j}}$"
   ]
  },
  {
   "cell_type": "markdown",
   "metadata": {},
   "source": [
    "![Alt Text](v.PNG)"
   ]
  },
  {
   "cell_type": "markdown",
   "metadata": {},
   "source": [
    "Orice vector din planul Oxy  poate fi scris în funcţie de versori în felul următor, "
   ]
  },
  {
   "cell_type": "markdown",
   "metadata": {},
   "source": [
    "$\\vec{\\mathbf{a}}=a_x\\vec{\\mathbf{i}}+a_y\\vec{\\mathbf{j}}$"
   ]
  },
  {
   "cell_type": "markdown",
   "metadata": {},
   "source": [
    "unde $a_x$, $a_y$ sunt componentele vectorului pe axele de coordonate"
   ]
  },
  {
   "cell_type": "markdown",
   "metadata": {},
   "source": [
    "De exemplu vectorul $\\vec{\\mathbf{a}}=3\\vec{\\mathbf{i}}+2\\vec{\\mathbf{j}}$ este reprezentat mai jos."
   ]
  },
  {
   "cell_type": "markdown",
   "metadata": {},
   "source": [
    "![Alt Text](v2.PNG)"
   ]
  },
  {
   "cell_type": "markdown",
   "metadata": {},
   "source": [
    "În cazul în care avem de calculat suma sau diferenţa a doi vectori reprezentarea acestora în funcţie de \n",
    "versori permite un calcul simplu al sumei respectiv diferenţei vectorilor. "
   ]
  },
  {
   "cell_type": "markdown",
   "metadata": {},
   "source": [
    "De exemplu,  fie vectorii $\\vec{\\mathbf{a}}=3\\vec{\\mathbf{i}}+2\\vec{\\mathbf{j}}$ și $\\vec{\\mathbf{b}}=-5\\vec{\\mathbf{i}}+\\vec{\\mathbf{j}}$"
   ]
  },
  {
   "cell_type": "markdown",
   "metadata": {},
   "source": [
    "$\\vec{\\mathbf{a}}+\\vec{\\mathbf{b}}=3\\vec{\\mathbf{i}}+2\\vec{\\mathbf{j}}-5\\vec{\\mathbf{i}}+\\vec{\\mathbf{j}}=\n",
    "-2\\vec{\\mathbf{i}}+3\\vec{\\mathbf{j}}$"
   ]
  },
  {
   "cell_type": "markdown",
   "metadata": {},
   "source": [
    "$\\vec{\\mathbf{a}}-\\vec{\\mathbf{b}}=3\\vec{\\mathbf{i}}+2\\vec{\\mathbf{j}}-(-5\\vec{\\mathbf{i}}+\\vec{\\mathbf{j}})=\n",
    "8\\vec{\\mathbf{i}}+\\vec{\\mathbf{j}}$"
   ]
  },
  {
   "cell_type": "markdown",
   "metadata": {},
   "source": [
    "În cazul mai general în care avem un sistem de 3 axe de coordonate orice vector în spațiul tridimensional se poate\n",
    "reprezinta în funcție de trei versori ai axelor de coordonate respectiv  $\\vec{\\mathbf{i}}$, $\\vec{\\mathbf{j}}$ și\n",
    "$\\vec{\\mathbf{k}}$. Adunarea şi scăderea se face similar cu cazul a doi vectori prezentat anterior."
   ]
  },
  {
   "cell_type": "markdown",
   "metadata": {},
   "source": [
    "De exemplu vectorul $\\vec{\\mathbf{a}}=4\\vec{\\mathbf{i}}+3\\vec{\\mathbf{j}}+\\vec{\\mathbf{k}}$ este reprezentat în figura de mai jos."
   ]
  },
  {
   "cell_type": "markdown",
   "metadata": {},
   "source": [
    "![Alt Text](v3.PNG)"
   ]
  },
  {
   "cell_type": "markdown",
   "metadata": {},
   "source": [
    "Compunerea vectorilor în spațiul tridimensional se face la fel ca în plan."
   ]
  },
  {
   "cell_type": "markdown",
   "metadata": {},
   "source": [
    "--------------------"
   ]
  },
  {
   "cell_type": "markdown",
   "metadata": {},
   "source": [
    "## 7. Produsul scalar a doi vectori"
   ]
  },
  {
   "cell_type": "markdown",
   "metadata": {},
   "source": [
    "Produsul scalar a doi vectori este util în definirea anumitor mărimi fizice cum ar fi de exemplu lucrul mecanic. "
   ]
  },
  {
   "cell_type": "markdown",
   "metadata": {},
   "source": [
    "Produsul scalar se notează astfel  $\\vec{\\mathbf{a}}\\cdot\\vec{\\mathbf{b}}$ , punctul dintre cei doi vectori e obligatoriu."
   ]
  },
  {
   "cell_type": "markdown",
   "metadata": {},
   "source": [
    "Prin definiție produsul scalar a doi vectori este un scalar egal în modul cu produsul modulelor celor doi vectori înmulţit cu cosinusul unghiului dintre cei doi vectori. "
   ]
  },
  {
   "cell_type": "markdown",
   "metadata": {},
   "source": [
    "$\\vec{\\mathbf{a}}\\cdot\\vec{\\mathbf{b}}=abcos(\\alpha)$"
   ]
  },
  {
   "cell_type": "markdown",
   "metadata": {},
   "source": [
    "Practic prin produsul scalar se înmulţeşte unul din vectori cu proiecţia celuilalt pe direcţia sa."
   ]
  },
  {
   "cell_type": "markdown",
   "metadata": {},
   "source": [
    "![Alt Text](ps.PNG)"
   ]
  },
  {
   "cell_type": "markdown",
   "metadata": {},
   "source": [
    "În funcţie de orientarea vectorilor $\\vec{\\mathbf{a}}$ şi $\\vec{\\mathbf{b}}$ produsului scalar are diferite valori așa cum vedeți mai jos."
   ]
  },
  {
   "cell_type": "markdown",
   "metadata": {},
   "source": [
    "Dacă vectorii sunt perpendicular produsul lor scalar este zero. Reciproc dacă produsul scalar a doi vectori este zero atunci vectorii sunt perpendiculari."
   ]
  },
  {
   "cell_type": "markdown",
   "metadata": {},
   "source": [
    "![Alt Text](ps1.PNG)"
   ]
  },
  {
   "cell_type": "markdown",
   "metadata": {},
   "source": [
    "---------------------"
   ]
  },
  {
   "cell_type": "markdown",
   "metadata": {},
   "source": [
    "## 8. Produsul vectorial a doi vectori"
   ]
  },
  {
   "cell_type": "markdown",
   "metadata": {},
   "source": [
    "Produsul vectorial a doi vectori, notat $\\vec{\\mathbf{a}}\\times\\vec{\\mathbf{b}}$ ,  este un vector,  să spunem $\\vec{\\mathbf{c}}$,"
   ]
  },
  {
   "cell_type": "markdown",
   "metadata": {},
   "source": [
    "$\\vec{\\mathbf{a}}\\times\\vec{\\mathbf{b}}$ = $\\vec{\\mathbf{c}}$"
   ]
  },
  {
   "cell_type": "markdown",
   "metadata": {},
   "source": [
    "Vectorul $\\vec{\\mathbf{c}}$ are următoarele caracteristici:\n",
    "<ul>\n",
    "<li>Modulul  $c = ab sinα$. Modulul vectorului rezultat din produsul vectorial reprezintă geometric aria descrisă de paralelogramul format din vectorii $\\vec{\\mathbf{a}}$ și $\\vec{\\mathbf{b}}$</li>\n",
    "<li>Direcţia este perpendiculară pe planul determinat de cei doi vectori.</li>\n",
    "<li>Sensul este determinat de regula burghiului drept sau a mâinii drepte.</li>\n",
    "</ul>"
   ]
  },
  {
   "cell_type": "markdown",
   "metadata": {},
   "source": [
    "Regula mâinii drepte este ilustrată în figura de mai jos şi se aplică în felul următor:"
   ]
  },
  {
   "cell_type": "markdown",
   "metadata": {},
   "source": [
    "![Alt Text](b.PNG)"
   ]
  },
  {
   "cell_type": "markdown",
   "metadata": {},
   "source": [
    "<ul>\n",
    "<li>Se aşează mâna dreaptă astfel încât 4 degete să indice sensul de rotaţie de la primul vector din relaţia, \n",
    "adică $\\vec{\\mathbf{a}}$ , către al doilea vector, adică $\\vec{\\mathbf{b}}$,  pe drumul ce mai scurt. </li>\n",
    "<li>Degetul mare perpendicular pe celelalte 4 indică sensul vectorului  rezultat din produsul  vectorial adică $\\vec{\\mathbf{c}}$ . </li>\n",
    "</ul>"
   ]
  },
  {
   "cell_type": "markdown",
   "metadata": {},
   "source": [
    "<font color=red> ATENȚIE!</font> Ordinea în produsul vectorial este importantă.  Dacă avem de calculat $\\vec{\\mathbf{b}}\\times\\vec{\\mathbf{a}}$ atunci obţinem $-\\vec{\\mathbf{c}}$. Produsul vectorial nu este comutativ. "
   ]
  },
  {
   "cell_type": "markdown",
   "metadata": {},
   "source": [
    "În cazul în care vectorii sunt reprezentați prin versori, produsul vectorial mai poate fi calculat şi ca determinant \n",
    "rezultatul fiind identic cu procedura prezentată mai sus:"
   ]
  },
  {
   "cell_type": "markdown",
   "metadata": {},
   "source": [
    "![Alt Text](vp.PNG)"
   ]
  }
 ],
 "metadata": {
  "anaconda-cloud": {},
  "kernelspec": {
   "display_name": "Python [Root]",
   "language": "python",
   "name": "Python [Root]"
  },
  "language_info": {
   "codemirror_mode": {
    "name": "ipython",
    "version": 2
   },
   "file_extension": ".py",
   "mimetype": "text/x-python",
   "name": "python",
   "nbconvert_exporter": "python",
   "pygments_lexer": "ipython2",
   "version": "2.7.12"
  }
 },
 "nbformat": 4,
 "nbformat_minor": 0
}
