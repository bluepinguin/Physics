{
 "cells": [
  {
   "cell_type": "markdown",
   "metadata": {},
   "source": [
    "# Descrierea mișcării mecanice"
   ]
  },
  {
   "cell_type": "markdown",
   "metadata": {},
   "source": [
    "## 1. Sistem de referinţă. Traiectorie. Punct material. Mobil."
   ]
  },
  {
   "cell_type": "markdown",
   "metadata": {},
   "source": [
    "Descrierea mişcării mecanice se face întotdeauna precizând **sistemul de referinţă**. Prin sistem de referinţă, notat **$SR$**,  înţelegem un corp de referinţă considerat fix în raport cu care măsurăm poziţia în spaţiu  şi un ceasornic care măsoară timpul. În general vorbim de un **sistem de axe de coordonate** $Oxyz$ a cărul origine reprezintă **corpul de referinţă**.În funcţie de natura problemei putem considera o singură axă de coodonate $Ox$ pentru cazul mişcării în linie dreaptă - unidimensionale sau două axe de coordonate $Oxy$ pentru cazul mişcării bidimensionale. "
   ]
  },
  {
   "cell_type": "markdown",
   "metadata": {},
   "source": [
    "![Alt Text](c1.PNG)"
   ]
  },
  {
   "cell_type": "markdown",
   "metadata": {
    "collapsed": true
   },
   "source": [
    "![Alt Text](c2.PNG)"
   ]
  },
  {
   "cell_type": "markdown",
   "metadata": {},
   "source": [
    "![Alt Text](c0.PNG)"
   ]
  },
  {
   "cell_type": "markdown",
   "metadata": {},
   "source": [
    "**Traiectoria** reprezintă curba descrisă de un obiect în timpul mişcării sale. În foarte multe situaţii mişcarea mecanică poate fi analizată prin reducere la un model foarte simplu, **modelul punctului material**. Un **punct material** este un punct geometric asociat unui sistem în care se consideră concentrată toată masa sistemului. Dacă masa sistemului este irelevantă pentru analiza problemei de studiat punctul material este numit **mobil**. În raport cu un sistem de referinţă mişcarea unui mobil poate fi descrisă la fiecare moment de timp de un **vector de poziţie** care poate avea în cazul general trei coordonate spaţiale, $\\vec{\\mathbf{r}}(x_1,y_1,z_1)$ - cazul mișcării în spațiu,  sau două coordonate în cazul mişcării în plan $\\vec{\\mathbf{r}}(x_1,y_1)$- cazul mișcării în plan,  sau o coordonată $\\vec{\\mathbf{x}}$ în cazul mişcării unidimensionale."
   ]
  },
  {
   "cell_type": "markdown",
   "metadata": {},
   "source": [
    "## 2. Sistemul de coordonate geografic"
   ]
  },
  {
   "cell_type": "markdown",
   "metadata": {},
   "source": [
    "Poziția geografică a unui obiect pe suprafața Pământului este descrisă astfel:"
   ]
  },
  {
   "cell_type": "markdown",
   "metadata": {},
   "source": [
    "<ul>\n",
    "\n",
    "<li>**Latitudinea**, reprezintă unghiul format de raza Pământului în locul unde se află obiectul B în raport cu cercul ecuatorial. Latitudinea este prin urmare un unghi cu valori între 0 și 90, unghi măsurat în raport cu planul Ecuatorului. Latitudinea poate fi nordică sau sudică.</li>\n",
    "<li>**Longitudinea**, reprezintă unghiul măsurat în raport cu un meridian de referință si poate avea valori cuprinse între 0 și 180. Meridianul de referință este cel care trece prin Greenwich. In raport cu acesta longitudinea poate fi estică sau vestică.</li>\n",
    "\n",
    "</ul>\n"
   ]
  },
  {
   "cell_type": "markdown",
   "metadata": {},
   "source": [
    "![Alt Text](c3.PNG)"
   ]
  },
  {
   "cell_type": "markdown",
   "metadata": {},
   "source": [
    "De exemplu coordonatele geografice ale Bucureștiului sunt: $44^0 27 min$  latitudine Nordică , $26^0 10 min$ longitudine Estică.\n"
   ]
  },
  {
   "cell_type": "markdown",
   "metadata": {},
   "source": [
    "## 3. Deplasare. Distanță parcursă."
   ]
  },
  {
   "cell_type": "markdown",
   "metadata": {},
   "source": [
    "Considerăm un mobil care se deplasează în plan. Traiectoria mobilului este desenată mai jos.  Poziţiile A  şi B ale mobilului la două momente succesive de timp $t_0$  şi $t$ sunt descrise în raport cu un sistem de axe de coordonate  de vectorii de poziţie $\\vec{\\mathbf{r_0}}$ și $\\vec{\\mathbf{r}}$ . **Vectorul deplasare** notat $\\Delta\\vec{\\mathbf{r}}$ este definit de relaţia:"
   ]
  },
  {
   "cell_type": "markdown",
   "metadata": {},
   "source": [
    "$\\Delta\\vec{\\mathbf{r}}=\\vec{\\mathbf{r}}-\\vec{\\mathbf{r_0}}$"
   ]
  },
  {
   "cell_type": "markdown",
   "metadata": {},
   "source": [
    "**Vectorul deplasare** reprezintă vectorul care uneşte poziţia iniţială cu poziţia finală considerată a mobilului, \n",
    "în cazul nostru **A** cu **B**. "
   ]
  },
  {
   "cell_type": "markdown",
   "metadata": {},
   "source": [
    "Distanţa parcursă reprezintă lungimea traiectoriei mobilului măsurată între punctele **A** şi **B**. Este notată cu **d**. "
   ]
  },
  {
   "cell_type": "markdown",
   "metadata": {},
   "source": [
    "$d=arcul(AB)$"
   ]
  },
  {
   "cell_type": "markdown",
   "metadata": {},
   "source": [
    "Distanţa este un scalar în timp ce deplasarea este un vector. "
   ]
  },
  {
   "cell_type": "markdown",
   "metadata": {},
   "source": [
    "![Alt Text](c4.PNG)"
   ]
  }
 ],
 "metadata": {
  "anaconda-cloud": {},
  "kernelspec": {
   "display_name": "Python [Root]",
   "language": "python",
   "name": "Python [Root]"
  },
  "language_info": {
   "codemirror_mode": {
    "name": "ipython",
    "version": 2
   },
   "file_extension": ".py",
   "mimetype": "text/x-python",
   "name": "python",
   "nbconvert_exporter": "python",
   "pygments_lexer": "ipython2",
   "version": "2.7.12"
  }
 },
 "nbformat": 4,
 "nbformat_minor": 0
}
