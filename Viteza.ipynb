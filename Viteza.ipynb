{
 "cells": [
  {
   "cell_type": "markdown",
   "metadata": {},
   "source": [
    "# Viteza medie. Viteza momentană."
   ]
  },
  {
   "cell_type": "markdown",
   "metadata": {},
   "source": [
    "<a href=\"http://www.quarq.ro/lectii.html\">Lectii www.quarq.ro</a>"
   ]
  },
  {
   "cell_type": "markdown",
   "metadata": {},
   "source": [
    "## 1.Viteza medie"
   ]
  },
  {
   "cell_type": "markdown",
   "metadata": {},
   "source": [
    "Prin definiţie viteza medie reprezintă vectorul:"
   ]
  },
  {
   "cell_type": "markdown",
   "metadata": {},
   "source": [
    "$\\vec{v_m}= \\frac{∆\\vec{r}}{∆t}=\\frac{\\vec{r}-\\vec{r_0}}{t - t_0}$ $[\\frac{m}{s}]$"
   ]
  },
  {
   "cell_type": "markdown",
   "metadata": {},
   "source": [
    "Vectorul viteză medie are aceeaşi orientare în spaţiu ca şi vectorul deplasare. În literatura științifică engleză  este numită \"velocity\"."
   ]
  },
  {
   "cell_type": "markdown",
   "metadata": {},
   "source": [
    "![Alt Text](c1.PNG)"
   ]
  },
  {
   "cell_type": "markdown",
   "metadata": {},
   "source": [
    "Viteza medie mai poate fi definită ca raportul dintre distanța parcursă de un mobil și intervalul de timp corespunzător. In acest caz viteza mai este numită viteză medie în modul. În literatura științifică engleză este numită \"speed\"."
   ]
  },
  {
   "cell_type": "markdown",
   "metadata": {},
   "source": [
    "$v_m=\\frac{d}{∆t}$"
   ]
  },
  {
   "cell_type": "markdown",
   "metadata": {},
   "source": [
    "## 2. Viteza momentană"
   ]
  },
  {
   "cell_type": "markdown",
   "metadata": {},
   "source": [
    "Viteza momentană este viteza unui mobil la un moment de timp bine determinat. \n",
    "Este ceea ce indică vitezometrul unui automobil."
   ]
  },
  {
   "cell_type": "markdown",
   "metadata": {
    "collapsed": true
   },
   "source": [
    "![Alt Text](c4.PNG)"
   ]
  },
  {
   "cell_type": "markdown",
   "metadata": {},
   "source": [
    "Dacă alegem momente de timp din ce în ce mai apropiate de momentul iniţial $t_0$ atunci vectorii deplasare corespunzători devin din ce în ce mai mici ca modul şi suferă  o rotaţie în jurul punctului A."
   ]
  },
  {
   "cell_type": "markdown",
   "metadata": {},
   "source": [
    "![Alt Text](c2.PNG)"
   ]
  },
  {
   "cell_type": "markdown",
   "metadata": {},
   "source": [
    "La limită când intervalul de timp  $∆t=t-t_0$ tinde la zero, vectorul deplasare devine tangent la traiectorie în punctul A, limita raportului $\\frac{∆\\vec{r}}{∆t}$\n",
    "tinde la o valoarea constantă nenulă care reprezinta **viteza momentană** a mobilului la momentul $t_0$."
   ]
  },
  {
   "cell_type": "markdown",
   "metadata": {},
   "source": [
    "$\\vec{v}=lim_{∆t\\to0}\\frac{∆\\vec{r}}{∆t}=\\frac{d\\vec{r}}{dt}$"
   ]
  },
  {
   "cell_type": "markdown",
   "metadata": {},
   "source": [
    "Prin urmare  viteza momentană reprezintă derivata vectorului de poziţie al mobilului în raport cu timpul. Viteza momentană  este viteza mobilului la fiecare moment de timp şi este un vector tangent la traiectorie în fiecare punct al acesteia. \n",
    "Viteza se măsoară în sistemul internaţional în $m/s$ ."
   ]
  },
  {
   "cell_type": "markdown",
   "metadata": {},
   "source": [
    "![Alt Text](c3.PNG)"
   ]
  },
  {
   "cell_type": "markdown",
   "metadata": {},
   "source": [
    "## 3. Cazul mișcării pe traiectorie rectilinie"
   ]
  },
  {
   "cell_type": "markdown",
   "metadata": {
    "collapsed": true
   },
   "source": [
    "Considerăm un mobil care se mișcă pe o traiectorie rectilinie."
   ]
  },
  {
   "cell_type": "markdown",
   "metadata": {},
   "source": [
    "![Alt Text](c5.PNG)"
   ]
  },
  {
   "cell_type": "markdown",
   "metadata": {},
   "source": [
    "Viteza medie pe intervalul de timp $t \\in(0,1)s$:"
   ]
  },
  {
   "cell_type": "markdown",
   "metadata": {},
   "source": [
    "$v_m=\\frac{variatia\\quad coordonatei}{intervalul\\quad de\\quad timp}=\\frac{∆x}{∆t}=\\frac{x_1-x_0}{t_1-t_0}=\\frac{5m-0m}{1s-0s}=5m/s$"
   ]
  },
  {
   "cell_type": "markdown",
   "metadata": {},
   "source": [
    "Dacă avem un grafic poziție-timp viteza medie pe intervalul de timp $t \\in(2,5)s$ se calculează astfel:"
   ]
  },
  {
   "cell_type": "markdown",
   "metadata": {},
   "source": [
    "![Alt Text](c6.PNG)"
   ]
  },
  {
   "cell_type": "markdown",
   "metadata": {},
   "source": [
    "$v_m=\\frac{∆x}{∆t}=\\frac{60m-10m}{5s-2s}=\\frac{50}{3} \\frac{m}{s}=16,6\\frac{m}{s}$"
   ]
  },
  {
   "cell_type": "markdown",
   "metadata": {},
   "source": [
    "Viteza momentană este viteza mobilului la un moment de timp bine dterminat si este indicată de vitezometru."
   ]
  },
  {
   "cell_type": "markdown",
   "metadata": {},
   "source": [
    "![Alt Text](c7.PNG)"
   ]
  },
  {
   "cell_type": "markdown",
   "metadata": {},
   "source": [
    "Viteza momentană poate fi calculată în două modalități:"
   ]
  },
  {
   "cell_type": "markdown",
   "metadata": {},
   "source": [
    "![Alt Text](c8.PNG)"
   ]
  },
  {
   "cell_type": "markdown",
   "metadata": {},
   "source": [
    "![Alt Text](c9.PNG)"
   ]
  }
 ],
 "metadata": {
  "kernelspec": {
   "display_name": "Python [Root]",
   "language": "python",
   "name": "Python [Root]"
  },
  "language_info": {
   "codemirror_mode": {
    "name": "ipython",
    "version": 2
   },
   "file_extension": ".py",
   "mimetype": "text/x-python",
   "name": "python",
   "nbconvert_exporter": "python",
   "pygments_lexer": "ipython2",
   "version": "2.7.12"
  }
 },
 "nbformat": 4,
 "nbformat_minor": 0
}
