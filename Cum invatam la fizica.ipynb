{
 "cells": [
  {
   "cell_type": "markdown",
   "metadata": {},
   "source": [
    "<a href=\"http://www.quarq.ro/lectii.html\">Lectii www.quarq.ro</a>"
   ]
  },
  {
   "cell_type": "markdown",
   "metadata": {},
   "source": [
    "# Cum învățăm la fizică - ghid practic"
   ]
  },
  {
   "cell_type": "markdown",
   "metadata": {},
   "source": [
    "Valerica Baban, 3 septembrie 2016, Constanta."
   ]
  },
  {
   "cell_type": "markdown",
   "metadata": {},
   "source": [
    "![Alt Text](http://www.quarq.ro/elements/images/home/studenti11.jpg)"
   ]
  },
  {
   "cell_type": "markdown",
   "metadata": {},
   "source": [
    "--------------------------------------"
   ]
  },
  {
   "cell_type": "markdown",
   "metadata": {},
   "source": [
    "## Generalități"
   ]
  },
  {
   "cell_type": "markdown",
   "metadata": {},
   "source": [
    "Primul lucru care trebuie spus este că nu există o metodă unică și infailibilă de a învăța, fiecare individ este unic în felul său, prin urmare există șanse ca ceea ce voi spune  mai jos să nu fie o soluție perfectă pentru toți. \n"
   ]
  },
  {
   "cell_type": "markdown",
   "metadata": {},
   "source": [
    "Există mai multe categorii de persoane care ar putea fi interesate de subiect: cei care deja au o metodă de studiu care dă rezultate dar care doresc să cunoască și alte abordări, cei care nu sunt mulțumiți de performațele lor și doresc să își perfecționeze stilul de învățare, cei curioși să afle lucruri noi, cei care pur și simplu nu și-au pus vreodată problema, … etc. Pentru toți aceștia îndemnul meu este să citiți și să luați ceea ce vi se potriveste.\n"
   ]
  },
  {
   "cell_type": "markdown",
   "metadata": {},
   "source": [
    "Motivele pentru  care  cei mai mulți nu obțin rezultate bune la fizică sunt în esență următoarele :\n"
   ]
  },
  {
   "cell_type": "markdown",
   "metadata": {},
   "source": [
    "<ul>\n",
    "<li>deprinderi proaste de studiu.</li>\n",
    "<li>utilizarea ineficientă a timpului.</li>\n",
    "<li>faptul că nu își alocă deloc sau aproape deloc timp pentru studiu și cred că este suficient doar să asiste la cursurile de fizică.\n",
    "</li>\n",
    "</ul>"
   ]
  },
  {
   "cell_type": "markdown",
   "metadata": {},
   "source": [
    "Sunt câteva principii pe care trebuie să le aibe în vedere cineva care dorește cu adevărat să obțină rezultate  bune la fizică:\n"
   ]
  },
  {
   "cell_type": "markdown",
   "metadata": {},
   "source": [
    "### 1. Înțelegerea subiectului.\n"
   ]
  },
  {
   "cell_type": "markdown",
   "metadata": {},
   "source": [
    "Nu vă ajută deloc dacă memorați concepte, formule, date, demostrații, etc. Cel mai important lucru este să întelegeți principiile de bază și cum anume să utilizați informațiile și mai ales când anume să utilizați anumite concepte și când nu are sens să le utilizați. \n"
   ]
  },
  {
   "cell_type": "markdown",
   "metadata": {},
   "source": [
    "<font color='red'>ATENȚIE! </font> Înțelegerea presupune un efort mai mare decât memorarea și foarte mulți greșesc nedorind să îl facă."
   ]
  },
  {
   "cell_type": "markdown",
   "metadata": {},
   "source": [
    "Pe de altă parte fizica înseamnă și utilizarea corectă a conceptelor și a unui limbaj. Prin urmare este evident că presupune și cunoasterea anumitor relații de bază inclusiv memorarea lor dar asta nu în detrimentul înțelegerii semnificației și a ceea ce se află în spatele lor. Limbajul este foarte important și din acest motiv nu orice afirmație legată de un subiect este și corectă chiar dacă ea utilizează anumiți termeni specifici fizicii. Este ca și cum ai învăța o limbă străină, trebuie să cunoști și să utilizezi corect vocabularul și regulile de gramatică.\n"
   ]
  },
  {
   "cell_type": "markdown",
   "metadata": {},
   "source": [
    "### 2. Fizica nu este un sport al spectatorilor.\n"
   ]
  },
  {
   "cell_type": "markdown",
   "metadata": {},
   "source": [
    "Nu poți învăța fizică fiind doar spectator la cursuri și uitându-te la alții cum lucrează. Ca să întelegi trebuie să participi activ la proces, să îți faci temele, să citești și să înveți noțiunile de bază inclusiv așa numita parte de teorie. Temele trebuie să ți le faci tu însuți și nu să le copiezi de la alții. Nu poți obține rezultate învătând doar o zi înainte de lucrările scrise sau examene.\n"
   ]
  },
  {
   "cell_type": "markdown",
   "metadata": {},
   "source": [
    "### 3. Fizica este cumulativă\n"
   ]
  },
  {
   "cell_type": "markdown",
   "metadata": {},
   "source": [
    "Fizica ca și matematica este cumulativă.  Foarte multe din lucrurile care se învață la fizică depind de subiectele învățate anterior.  Prin urmare trebuie să înveți constant săptămână de săptămână altfel firul înțelegerii se rupe. Nu vei putea niciodată invăța întreaga materie doar cu o zi înainte de lucrarea scrisă sau de examen.\n"
   ]
  },
  {
   "cell_type": "markdown",
   "metadata": {},
   "source": [
    "### 4. Limbajul fizicii este matematica\n"
   ]
  },
  {
   "cell_type": "markdown",
   "metadata": {},
   "source": [
    "Fizica utilizează ca limbaj matematica prin urmare este foarte important să acordați aceeași atenție studiului și întelegerii noțiunilor de matematică. <br>\n",
    "<font color='red'>ATENTIE!</font>  Fizica NU se reduce  la matematică. Este cu mult mai mult.\n"
   ]
  },
  {
   "cell_type": "markdown",
   "metadata": {},
   "source": [
    "### 5. Invățați limba engleză"
   ]
  },
  {
   "cell_type": "markdown",
   "metadata": {},
   "source": [
    "Cele mai importante și vaste surse de informare științifică sunt în limba engleză. De aceea este foarte important (cel puțin pentru cei care doresc să urmeze o carieră științifică) să își însușească limbajul științific în limba engleză."
   ]
  },
  {
   "cell_type": "markdown",
   "metadata": {},
   "source": [
    "## Reguli generale\n"
   ]
  },
  {
   "cell_type": "markdown",
   "metadata": {},
   "source": [
    "<ul>\n",
    "<li>Mergeți regulat la orele de fizică, la toate orele de fizică.</li>\n",
    "<li>Mergeți la timp la orele de fizică.</li>\n",
    "<li>Ascultați cu atenție și luați notițe. Notițele trebuie să fie cât mai complete și să reflecte cu exactitate chestiunile discutate.  La lecții veți afla multe lucruri care nu sunt scrise în cărți sau manuale.\n",
    "</li>\n",
    "<li>Puneți întrebări.</li>\n",
    "<li>Asculați cu atenție întrebările puse de alții și răspunsurile care se dau.\n",
    "</li>\n",
    "<li>În timpul acordat studiului în afara clasei recitiți notițele și faceți efortul să întelegeți noțiunile discutate. Abia apoi treceți la rezolvare temelor de acasă.</li>\n",
    "<li>Învățați notațiile și definițiile după fiecare lecție.\n",
    "</li>\n",
    "<li>Faceți-vă temele după fiecare lecție.</li>\n",
    "<li>Faceți-vă singuri temele. Nu copiați rezolvări după alții sau din cărți.</li>\n",
    "<li>Intrați într-un grup de studiu dedicat fizicii.\n",
    "</li>\n",
    "<li>Păstrați caietele pentru testele și examenele finale.\n",
    "</li>\n",
    "<li>Utilizați cărțile de fizică.</li>\n",
    "<li>Străduiți-vă să aveți o atitudine corectă față studiu, faceți lucrurile cât mai bine cu putință. Nu încercați  să depuneți doar efortul minim în speranța că veți promova oricum.\n",
    "</li>\n",
    "<li>Cereți ajutor oricând aveți nevoie.\n",
    "</li>\n",
    "<li>Atunci când nu înțelegeți un subiect căutați surse alternative de informare. Nu vă limitați doar la wikipedia. Cele mai vaste și importante surse de informare sunt în limba engleză. Prin urmare e important să cunoașteți această limbă.</li>\n",
    "<li>Perseverați!</li>\n",
    "</ul>"
   ]
  },
  {
   "cell_type": "markdown",
   "metadata": {},
   "source": [
    "##  Cum cerem ajutor"
   ]
  },
  {
   "cell_type": "markdown",
   "metadata": {},
   "source": [
    "<ul>\n",
    "<li>Nu asteptați până în ultimul moment. Cereți ajutor ori de câte ori nu \n",
    "înțelegeți. Amintiți-vă că învățarea fizicii este cumulativă. </li>\n",
    "<li>Puneți întrebările în clasă.</li>\n",
    "<li>Implicați-vă într-un grup de studiu. Un asemenea grup este <b>Ovidius Physics Group </b> pe care îl găsiți pe <b>Facebook</b>. </li>\n",
    "<li>Puneți întrebări<i> ,,bune“</i>. Spunând doar ceva de genul <i>,,nu am înțeles lecția”</i> nu vă ajută deloc. Întrebarea trebuie să fie specifică adică să precizeze concret ceea ce nu s-a înțeles. Arătați pașii pe care i-ați făcut în rezolvare. Trebuie  să dovediți profesorului că ați făcut încercări de rezolvare și că ați  înțeles natura problemei dar ați ajuns într-un impas. Nici un profesor nu răspunde la întrebări generice gen <i>,,nu am înțeles lecția “ </i>sau  <i>,,nu am înțeles nimic“</i> , etc, acestea sunt exemple de <i>\"cum NU trebuie să punem întrebări\".</i></li>\n",
    "</ul>"
   ]
  },
  {
   "cell_type": "markdown",
   "metadata": {},
   "source": [
    "##  Rezolvarea problemelor și a temelor la fizică"
   ]
  },
  {
   "cell_type": "markdown",
   "metadata": {},
   "source": [
    "Rostul problemelor la fizică nu este acela de a vă face viața mizerabilă ci acela de a vă face să înțelegeți cu adevărat conceptele studiate și de a vă structura raționamentul și gândirea. Mai jos aveți etapele pe care trebuie să le parcurgeți atunci când rezolvați teme/probleme la fizică."
   ]
  },
  {
   "cell_type": "markdown",
   "metadata": {},
   "source": [
    "<ul>\n",
    "<li>Citiți partea teoretică la care se referă problema și înțelegeți-o!</li>\n",
    "<li>Citiți problema.</li>\n",
    "<li>Mai citiți odată problema.</li>\n",
    "<li>Citiți notițele și căutați probleme similare care s-au discutat la clasă.</li>\n",
    "<li>Clarificați ceea ce se dă și ceea ce se cere. Nici o problemă nu poate fi rezolvată dacă nu înțelegem care este natura problemei.</li>\n",
    "<li>Identificați conceptele, metodele, relațiile de care aveți nevoie.</li>\n",
    "<li>Faceți desene și diagrame care să vă ajute.</li>\n",
    "<li>Faceți un plan de rezolvare, identificați etapele intermediare și găsiți soluția.</li>\n",
    "<li>Verificați soluția. Are soluția sens? În mod uzual soluția unei probleme de fizică se identifică printr-o relație matematică o valoare numerică și unitate de măsură.</li>\n",
    "</ul>"
   ]
  },
  {
   "cell_type": "markdown",
   "metadata": {},
   "source": [
    "## Cum învătăm pentru examenele de fizică\n"
   ]
  },
  {
   "cell_type": "markdown",
   "metadata": {},
   "source": [
    "Examenele de fizică, fie că vorbim despre bacalaureat sau despre admiterea în învățământul superior sau alte tipuri de examene, implică un volum de cunoștințe mult mai amplu și un efort pe măsură. Regulile de bază pentru reușită sunt următoarele:\n"
   ]
  },
  {
   "cell_type": "markdown",
   "metadata": {},
   "source": [
    "<ul>\n",
    "<li>Faceți rost de programa/tematica de examen  și studiați-o cu atenție.</li>\n",
    "<li>Faceți rost de manualele aferente, caietele de notițe, etc unde au fost abordate subiectele respective.</li>\n",
    "<li>Faceți rost de o culegere de probleme care să trateze cuprinzător conceptele și tehnicile de bază.</li>\n",
    "<li>Parcurgeți partea teoretică a subiectelor conform programei. Întelegeți și învățați conceptele de bază și relațiile matematice corespunzătoare.</li>\n",
    "<li>Rezolvați problemele standard pentru fiecare subiect/capitol în parte din culegerea de probleme. </li>\n",
    "<li>După ce ați parcurs o tematică, de exemplu ați terminat de studiat partea de mecanică, puteți trece să rezolvați modele de subiecte de examen din culegeri specifice sau date la examene în anii școlari trecuți. În general subiectele de examen sunt sumative și deseori implică cunoașterea globală a întregii materii. \n",
    "Prin urmare se recomandă ca acestea să fie rezolvate la final în perioada de recapitulare pentru examene.</li>\n",
    "<li>Stabiliți-vă un program de lucru și încercați să îl urmați cât mai riguros.</li>\n",
    "<li>Este foarte important ca efortul să fie derulat pe o perioadă mai lungă de timp și să fie continuu. Pauzele sunt dăunătoare. Mai bine lucrați mai puțin dar continuu decât mult și în salturi.\n",
    "Faceti-vă sinteze/scheme cu conceptele și relațiile de bază.</li>\n",
    "<li>Cereți ajutor atunci când nu vă descurcați singuri.</li>\n",
    "<li>Nu se poate învăța toată materia în ultima săptămână sau lună prin urmare planificați-vă din timp efortul.</li>\n",
    "<li><font color='red'>RELAX!!! Nimic nu este imposibil pentru cei care își propun să obțină întradevăr ceva.</font></li>\n",
    "</ul>"
   ]
  },
  {
   "cell_type": "markdown",
   "metadata": {},
   "source": [
    "## Despre erori\n"
   ]
  },
  {
   "cell_type": "markdown",
   "metadata": {},
   "source": [
    "Tot ceea ce învățăm cu adevărat învățăm încercând noi înșine nu delegând pe alții și nu copiind fără să înțelegem nimic. În tot acest efort erorile sunt inevitabile. Erorile merită analizate cu atenție pentru că ele de fapt ne fac să ne perfecționăm și să înțelegem cum funcționează în mod real  lucrurile.\n"
   ]
  },
  {
   "cell_type": "markdown",
   "metadata": {},
   "source": [
    "----------------------"
   ]
  },
  {
   "cell_type": "markdown",
   "metadata": {},
   "source": [
    "<i>Bibliografie</i>"
   ]
  },
  {
   "cell_type": "markdown",
   "metadata": {},
   "source": [
    "<i>Acest material este destinatut tuturor celor cu adevărat dornici de învăța fizica și a fost inspirat de Paul Dawkins, <a href=\"http://tutorial.math.lamar.edu\">Paul’s Online Maths notes</a>.</i>"
   ]
  }
 ],
 "metadata": {
  "kernelspec": {
   "display_name": "Python 2",
   "language": "python",
   "name": "python2"
  },
  "language_info": {
   "codemirror_mode": {
    "name": "ipython",
    "version": 2
   },
   "file_extension": ".py",
   "mimetype": "text/x-python",
   "name": "python",
   "nbconvert_exporter": "python",
   "pygments_lexer": "ipython2",
   "version": "2.7.12"
  }
 },
 "nbformat": 4,
 "nbformat_minor": 0
}
