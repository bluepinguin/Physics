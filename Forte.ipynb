{
 "cells": [
  {
   "cell_type": "markdown",
   "metadata": {},
   "source": [
    "<a href=\"http://www.quarq.ro/lectii.html\">Lectii www.quarq.ro</a>"
   ]
  },
  {
   "cell_type": "markdown",
   "metadata": {},
   "source": [
    "# Tipuri de forțe"
   ]
  },
  {
   "cell_type": "markdown",
   "metadata": {},
   "source": [
    "Vom prezenta pe scurt principalele tipuri de forţe care apar atunci când corpurile se află în interacţiune."
   ]
  },
  {
   "cell_type": "markdown",
   "metadata": {},
   "source": [
    "## 1. Greutatea"
   ]
  },
  {
   "cell_type": "markdown",
   "metadata": {},
   "source": [
    " Este forţă de atracţie exercitată de Pământ asupra oricărui corp aflat pe suprafaţa sau în vecinătatea sa: $G = mg$ "
   ]
  },
  {
   "cell_type": "markdown",
   "metadata": {},
   "source": [
    "![Alt Text](f1.PNG)"
   ]
  },
  {
   "cell_type": "markdown",
   "metadata": {},
   "source": [
    "La distanţe mici faţă de suprafaţă Pământului greutatea unui corp este aproximativ constantă deoarece acceleraţia gravitaţională este constantă într-o primă aproximaţie."
   ]
  },
  {
   "cell_type": "markdown",
   "metadata": {},
   "source": [
    "La distanţe mai mari faţă de suprafaţa Pământului conform legii atracţie universale a lui I. Newton,"
   ]
  },
  {
   "cell_type": "markdown",
   "metadata": {},
   "source": [
    "$ G=F=\\gamma \\frac{mM}{(R_p+h)^2} $"
   ]
  },
  {
   "cell_type": "markdown",
   "metadata": {},
   "source": [
    "Unde $ \\gamma=6,672\\cdot 10^{-11} \\frac{Nm^2}{kg^2}$  este constanta atracţiei universale,$ m$ este masa corpului aflat în vecinătatea Pământului ( mărul în figura 5), $M$ este masa Pământului, $R_P$ este raza Pământului, \n",
    "$h$ este distanţă măsurată pe direcţia razei Pământului la care se găseşte corpul $m$. "
   ]
  },
  {
   "cell_type": "markdown",
   "metadata": {},
   "source": [
    "Aşa cum se vede în figura de mai sus , greutatea (adică forţa cu care este atras mărul de Pământ) are  reacţiunea $-\\vec{G}$  , în centrul Pământului. \n",
    "Adică mărul atrage la rândul său Pământul cu o forţă egală în modul dar se sens opus. "
   ]
  },
  {
   "cell_type": "markdown",
   "metadata": {},
   "source": [
    "## 2. Forța de apăsare normală"
   ]
  },
  {
   "cell_type": "markdown",
   "metadata": {},
   "source": [
    "Atunci când un corp stă pe o suprafaţă apar forţe acţiune–reacţiune şi anume (vezi figura de mai jos), forţa cu \n",
    "care suprafaţa împinge corpul notată $\\vec{N}$ numită forţă de apăsare normală şi forţa cu care corpul împinge suprafaţa, $-\\vec{N}$, care este reacţiunea acestei forţe. Acţiunea–reacţiunea sunt perpendiculare pe suprafaţa comună de contact şi acţionează asupra a două corpuri diferite una asupra corpului si alta asupra sufrafeţei de sprijin."
   ]
  },
  {
   "cell_type": "markdown",
   "metadata": {},
   "source": [
    "![Alt Text](f2.PNG)"
   ]
  },
  {
   "cell_type": "markdown",
   "metadata": {},
   "source": [
    "## 3. Forțele de tensiune din fire"
   ]
  },
  {
   "cell_type": "markdown",
   "metadata": {},
   "source": [
    "În cazul corpurilor suspendate de fire sau firelor prin intermediul cărora se trage apar de asemenea forţe perechi \n",
    "acţiune–reacţiune. În figura de mai jos este desentă o bilă suspendată de un fir. Sistemul este în echilibru. \n",
    "Ceea ce se desenează de regulă este greutatea şi forţa notată $\\vec{T}$ şi numită tensiune în fir fiind egale în modul şi de semn contrar (presupunem că nu este depăşită limita de rezistenţă a firului şi acesta nu se rupe). Dacă firul este ideal (nu are masă şi este inextensibil) desenând separat bila, firul şi suportul de prindere apar forţe acţiune – reacţiune la contactul direct dintre acestea ( bilă-fir, fir-suport). În cazul firului ideal aceste \n",
    "forţe sunt egale în modul dar (aşa cum se vede în figura de mai jos) acţionează în sens opus şi asupra unor corpuri diferite."
   ]
  },
  {
   "cell_type": "markdown",
   "metadata": {},
   "source": [
    "![Alt Text](f3.PNG)"
   ]
  },
  {
   "cell_type": "markdown",
   "metadata": {},
   "source": [
    "## 4. Forțe de frecare"
   ]
  },
  {
   "cell_type": "markdown",
   "metadata": {},
   "source": [
    "### Frecarea la alunecare. Frecarea statică și cinetică."
   ]
  },
  {
   "cell_type": "markdown",
   "metadata": {},
   "source": [
    "Ne vom referi la forţele de frecare care apar la contactul dintre corpuri atunci când un corp se deplasează în raport cu \n",
    "un altul."
   ]
  },
  {
   "cell_type": "markdown",
   "metadata": {},
   "source": [
    "![Alt Text](f4.PNG)"
   ]
  },
  {
   "cell_type": "markdown",
   "metadata": {},
   "source": [
    "Când nu există nici o forţă care să tragă de corp  nu există nici forţă de frecare (Fig.a). Dacă tragem de corp \n",
    "constatăm că acesta nu se deplasează decât dacă forţa cu care tragem depăşeste o anumită valoare. Acesta datorită \n",
    "apariţiei unei forţe de frecare numită forţă de frecare statică. Forţa de frecare statică apare datorită faptului \n",
    "că suprafeţele în contact oricât de bine ar fi lustruite au asperităţi mici care se întrepătrund şi impiedică astfel \n",
    "deplasarea corpurilor unul faţă de altul (Fig.9).  Forţele de frecare sunt orientate în sens opus sensului de deplasare\n",
    "a corpului. Dacă acţionăm cu o forţă de tracţiune mică şi corpul  rămâne în repaus forţa de frecare statică este egală \n",
    "cu forţa de tracţiune (Fig.b). Pe măsură ce creştem forţa de tracţiune creşte şi forţa de frecare statică. Acest lucru \n",
    "se întâmplă până se ajunge la un maxim care corespunde situaţiei practice când asperităţile se nivelează şi corpul \n",
    "începe să alune (Fig.c). Dacă forţa de tracţiune depăşeşte valoarea forţei de frecare statice maxime atunci corpul se \n",
    "pune în mişcare (Fig.d) iar forţa de frecare devine forţă de frecare cinetică. Valoarea forţei de frecare cinetice \n",
    "este puţin mai mică decât a forţei de frecare statice maxime şi rămâne constantă pe tot parcursul mişcării. \n",
    "Forţa de frecare cinetică se mai numeşte şi forţă de frecare la alunecare."
   ]
  },
  {
   "cell_type": "markdown",
   "metadata": {},
   "source": [
    "Comportarea forţei de frecare odată cu creşterea forţei de tracţiune este redată în figura de mai jos. Mai trebuie \n",
    "menţionat că o forţă egală în modul dar de sens opus actionează asupra suprafeţei pe care corpul alunecă (Fig.b,c,d). \n",
    "Prin urmare şi forţele de frecare sunt perechi actiune–reacţiune.\n",
    "Prin urmare dacă avem două suprafeţe în contact în mişcare relativa una faţă de alta vorbim de frecare cinetică sau \n",
    "la alunecare. Dacă suprafeţele fac un efort spre a se deplasa dar nu se deplasează încă vorbim de frecare statică.\n"
   ]
  },
  {
   "cell_type": "markdown",
   "metadata": {},
   "source": [
    "![Alt Text](f5.PNG)"
   ]
  },
  {
   "cell_type": "markdown",
   "metadata": {},
   "source": [
    "### Legile frecării"
   ]
  },
  {
   "cell_type": "markdown",
   "metadata": {},
   "source": [
    "1.Forţa de frecare statică maximă şi forţa de frecare la alunecare nu depind de aria suprafeţei de contact dintre \n",
    "corpuri."
   ]
  },
  {
   "cell_type": "markdown",
   "metadata": {},
   "source": [
    "2.Ca valoare forţa de frecare este proporţională cu forţa de apăsare normală exercitată pe suprafaţa de contact dintre corpuri. Coeficientul de proporţionalitate este numit coeficient de frecare static, \n",
    "respectiv cinetic."
   ]
  },
  {
   "cell_type": "markdown",
   "metadata": {},
   "source": [
    "$F_{fsmax}=μ_SN$"
   ]
  },
  {
   "cell_type": "markdown",
   "metadata": {},
   "source": [
    "$F_{fc}=μ_cN$"
   ]
  },
  {
   "cell_type": "markdown",
   "metadata": {},
   "source": [
    "În tabelul de mai jos sunt date câteva exemple de coeficienţi de frecare statică, aceştia sunt mărimi adimensionale şi depind de natura materialelor suprafeţelor în contact. Coefiecientul de frecare cinetică este \n",
    "ceva mai mic decât cel de frecare statică."
   ]
  },
  {
   "cell_type": "markdown",
   "metadata": {},
   "source": [
    "![Alt Text](f6.PNG)"
   ]
  },
  {
   "cell_type": "markdown",
   "metadata": {},
   "source": [
    "## 5. Forța elastică"
   ]
  },
  {
   "cell_type": "markdown",
   "metadata": {},
   "source": [
    "Forţa elastică este un fel de forţă de tensiune în fir. Tensiunea în fir se consideră când firele se presupun \n",
    "nedeformabile, ceea ce este de fapt o aproximaţie, în realitatea oricât de puţin firele se alungesc atunci când \n",
    "sunt acţionate de diferite forţe. Să presupunem că avem un fir deformabil de capătul căruia acţionăm cu o forţă $\\vec{F}$ constantă şi nu foarte mare astfel încât deformarea să fie elastică (firul să revină la lungimea iniţială atunci când acţiunea forţei încetează. "
   ]
  },
  {
   "cell_type": "markdown",
   "metadata": {},
   "source": [
    "![Alt Text](f7.PNG)"
   ]
  },
  {
   "cell_type": "markdown",
   "metadata": {},
   "source": [
    "Dacă se consideră firul de secţiune $S$ constantă, lungime iniţială $l_0$, atunci între forţă deformatoarea şi alungirea\n",
    "firului există relaţia (numită şi legea lui Hooke):"
   ]
  },
  {
   "cell_type": "markdown",
   "metadata": {},
   "source": [
    "$\\frac{F}{S}= E \\frac{\\Delta l}{l_0}$"
   ]
  },
  {
   "cell_type": "markdown",
   "metadata": {},
   "source": [
    "Unde $E$ este o constantă de material numită modul de elasticitate sau modulul lui Young. Rezultă:"
   ]
  },
  {
   "cell_type": "markdown",
   "metadata": {},
   "source": [
    "$F= ES \\frac{\\Delta l}{l_0}=k\\Delta l=kx$"
   ]
  },
  {
   "cell_type": "markdown",
   "metadata": {},
   "source": [
    "Se notează $k = \\frac{ES}{l_0}$ constanta elastică. Forţa $\\vec{F}$ care apare în relaţia de mai sus şi care este o forţă exterioră aplicată firului elastic se mai numeşte forţă deformatoare. Forţa deformatoare are acelaşi sens cu deformarea firului $ \\vec{x}$ şi se scrie vectorial astfel:"
   ]
  },
  {
   "cell_type": "markdown",
   "metadata": {},
   "source": [
    "$\\vec{F}=k\\vec{x}$"
   ]
  },
  {
   "cell_type": "markdown",
   "metadata": {},
   "source": [
    "Dacă forţa deformatoarea încetează atunci firul revine la forma iniţială (situaţie ideală, în fapt firul rămâne puţin deformat). Revenirea se datorează acţiunii forţei elastice. Forţa elastică apare în fir simultan cu \n",
    "forţa deformatoare dar este opusă acesteia."
   ]
  },
  {
   "cell_type": "markdown",
   "metadata": {},
   "source": [
    "![Alt Text](f8.PNG)"
   ]
  },
  {
   "cell_type": "markdown",
   "metadata": {},
   "source": [
    "Forţa elastică este proporţională cu deformarea firului dar opusă deformării."
   ]
  },
  {
   "cell_type": "markdown",
   "metadata": {},
   "source": [
    "$\\vec{F}=-k\\vec{x}$"
   ]
  },
  {
   "cell_type": "markdown",
   "metadata": {},
   "source": [
    "Proporţionalitatea între fortă deformatoare/forţa elastică şi deformare este valabilă între nişte limite impuse de natura materialului din care este confecţionat firul (forţa deformatoare să nu fie prea mare). Aceste limite se numesc limite de elasticitate. \n",
    "Dincolo de aceste limite deformările devin plastice şi apoi firul se rupe."
   ]
  },
  {
   "cell_type": "markdown",
   "metadata": {},
   "source": [
    "Reprezentarea grafică a forţei deformatoare respectiv a forţei elastice în limita de elasticitate este redată în graficul de mai jos."
   ]
  },
  {
   "cell_type": "markdown",
   "metadata": {},
   "source": [
    "![Alt Text](f9.PNG)"
   ]
  },
  {
   "cell_type": "markdown",
   "metadata": {},
   "source": [
    "O situaţie des întâlnită în care apare forţa elastică este cazul resorturilor."
   ]
  },
  {
   "cell_type": "markdown",
   "metadata": {},
   "source": [
    "![Alt Text](f10.PNG)"
   ]
  }
 ],
 "metadata": {
  "kernelspec": {
   "display_name": "Python [Root]",
   "language": "python",
   "name": "Python [Root]"
  },
  "language_info": {
   "codemirror_mode": {
    "name": "ipython",
    "version": 2
   },
   "file_extension": ".py",
   "mimetype": "text/x-python",
   "name": "python",
   "nbconvert_exporter": "python",
   "pygments_lexer": "ipython2",
   "version": "2.7.12"
  }
 },
 "nbformat": 4,
 "nbformat_minor": 0
}
