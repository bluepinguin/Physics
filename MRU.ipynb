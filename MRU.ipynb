{
 "cells": [
  {
   "cell_type": "markdown",
   "metadata": {},
   "source": [
    "# Mișcarea rectilinie uniformă - MRU"
   ]
  },
  {
   "cell_type": "markdown",
   "metadata": {},
   "source": [
    "Este cel mai simplu exemplu de mișcare mecanică. Este mișcarea unui mobil pe o traiectorie rectilinie cu\n",
    "viteză constantă. De exemplu vitezomentrul unui automobil care se mișcă pe o traiectorie rectilinie indică vitezele din tabelul de mai jos. Acesta este un exemplu de mobil care are o viteză constantă de $2m/s$."
   ]
  },
  {
   "cell_type": "markdown",
   "metadata": {},
   "source": [
    "![Alt Text](c1.PNG)"
   ]
  },
  {
   "cell_type": "markdown",
   "metadata": {},
   "source": [
    "Viteza medie coincide cu viteza momentană. "
   ]
  },
  {
   "cell_type": "markdown",
   "metadata": {},
   "source": [
    "$v= \\frac{\\Delta x}{\\Delta t}=\\frac{x-x_0}{t-t_0 }=const. $"
   ]
  },
  {
   "cell_type": "markdown",
   "metadata": {},
   "source": [
    "Rezultă:"
   ]
  },
  {
   "cell_type": "markdown",
   "metadata": {},
   "source": [
    "$x = x_0 + v (t-t_0)$"
   ]
  },
  {
   "cell_type": "markdown",
   "metadata": {},
   "source": [
    "Relația de mai sus se numește lege de mișcare. O lege de mișcare este o funcție care exprimă modul în care variază \n",
    "coordonata/poziția unui mobil în funcție de timp în raport cu originea axei de coordonate (vezi figura de mai jos)."
   ]
  },
  {
   "cell_type": "markdown",
   "metadata": {},
   "source": [
    "![Alt Text](c2.PNG)"
   ]
  },
  {
   "cell_type": "markdown",
   "metadata": {},
   "source": [
    "Dacă momentul inițial se alege astfel încât $t_0=0s$ atunci legea de mișcare se scrie mai simplu astfel:"
   ]
  },
  {
   "cell_type": "markdown",
   "metadata": {},
   "source": [
    "$x = x_0 + v t$"
   ]
  },
  {
   "cell_type": "markdown",
   "metadata": {},
   "source": [
    "**Exemplu **"
   ]
  },
  {
   "cell_type": "markdown",
   "metadata": {},
   "source": [
    "Să considerăm 3 automobile care se deplasează rectiliniu uniform și care la momentul inițial $t_0=0s$ se găsesc în pozițiile de mai jos."
   ]
  },
  {
   "cell_type": "markdown",
   "metadata": {},
   "source": [
    "![Alt Text](c3.PNG)"
   ]
  },
  {
   "cell_type": "markdown",
   "metadata": {},
   "source": [
    "Legile de mișcare ale celor 3 mobile sunt:"
   ]
  },
  {
   "cell_type": "markdown",
   "metadata": {},
   "source": [
    "$x_1(t)= 10+2t $"
   ]
  },
  {
   "cell_type": "markdown",
   "metadata": {},
   "source": [
    "$x_2(t)= 40-t $"
   ]
  },
  {
   "cell_type": "markdown",
   "metadata": {},
   "source": [
    "$x_3(t)= -10+5t $"
   ]
  },
  {
   "cell_type": "markdown",
   "metadata": {},
   "source": [
    "Reprezentarea grafică a acestora este redată mai jos."
   ]
  },
  {
   "cell_type": "code",
   "execution_count": 12,
   "metadata": {
    "collapsed": false
   },
   "outputs": [
    {
     "data": {
      "text/plain": [
       "<matplotlib.legend.Legend at 0x8b51ba8>"
      ]
     },
     "execution_count": 12,
     "metadata": {},
     "output_type": "execute_result"
    },
    {
     "data": {
      "image/png": "[encoded data removed]",
      "text/plain": [
       "<matplotlib.figure.Figure at 0x88d7080>"
      ]
     },
     "metadata": {},
     "output_type": "display_data"
    }
   ],
   "source": [
    "import matplotlib.pyplot as plt\n",
    "import numpy as np\n",
    "%matplotlib inline\n",
    "plt.style.use('ggplot')\n",
    "\n",
    "x = np.linspace(0, 50, 100)  \n",
    "y1 = 10+2*x\n",
    "y2 = 40-x\n",
    "y3 = -10+5*x\n",
    "\n",
    "plt.xlabel('t(s)')\n",
    "plt.ylabel('x(m)')\n",
    "\n",
    "plt.title('Graficul pozitie-timp')\n",
    "\n",
    "plt.plot(x, y1,'-b', label='Mobilul 1')\n",
    "plt.plot(x, y2,'-r', label='Mobilul 2')\n",
    "plt.plot(x, y3,'-g', label='Mobilul 3')\n",
    "\n",
    "\n",
    "plt.legend(loc='upper right')\n",
    "#plt.grid(True)"
   ]
  },
  {
   "cell_type": "markdown",
   "metadata": {},
   "source": [
    "Punctele de intersecție a graficelor reprezintă locul și momentul întâlnirii mobilelor."
   ]
  },
  {
   "cell_type": "markdown",
   "metadata": {},
   "source": [
    "Punctele de întâlnire se pot calcula analitic dacă se pune condiția ca la momentul întâlnirii mobilele să se afle în \n",
    "acelasi punct. De exemplu condiția ca mobilul 1 să întâlnească mobilul 2 este:"
   ]
  },
  {
   "cell_type": "markdown",
   "metadata": {},
   "source": [
    "$x_1(t)=x_2(t)$"
   ]
  },
  {
   "cell_type": "markdown",
   "metadata": {},
   "source": [
    "$10+2t =40-t $"
   ]
  },
  {
   "cell_type": "markdown",
   "metadata": {},
   "source": [
    "$3t =30$  $\\quad$ $t =10 s$, momentul intalnirii $\\quad$ $ x=30m$, locul întâlnirii"
   ]
  }
 ],
 "metadata": {
  "anaconda-cloud": {},
  "kernelspec": {
   "display_name": "Python [Root]",
   "language": "python",
   "name": "Python [Root]"
  },
  "language_info": {
   "codemirror_mode": {
    "name": "ipython",
    "version": 2
   },
   "file_extension": ".py",
   "mimetype": "text/x-python",
   "name": "python",
   "nbconvert_exporter": "python",
   "pygments_lexer": "ipython2",
   "version": "2.7.12"
  }
 },
 "nbformat": 4,
 "nbformat_minor": 0
}
